{
  "nbformat": 4,
  "nbformat_minor": 0,
  "metadata": {
    "colab": {
      "provenance": [],
      "authorship_tag": "ABX9TyMnSId82FiHC0Gg2ft1QS+o",
      "include_colab_link": true
    },
    "kernelspec": {
      "name": "python3",
      "display_name": "Python 3"
    },
    "language_info": {
      "name": "python"
    }
  },
  "cells": [
    {
      "cell_type": "markdown",
      "metadata": {
        "id": "view-in-github",
        "colab_type": "text"
      },
      "source": [
        "<a href=\"https://colab.research.google.com/github/MicaelLucasDT/Exercicios-de-programacao-/blob/main/Adicionar_nome_e_verificar_a_exist%C3%AAncia.ipynb\" target=\"_parent\"><img src=\"https://colab.research.google.com/assets/colab-badge.svg\" alt=\"Open In Colab\"/></a>"
      ]
    },
    {
      "cell_type": "code",
      "execution_count": 13,
      "metadata": {
        "colab": {
          "base_uri": "https://localhost:8080/"
        },
        "id": "lhEkEh0dNVp3",
        "outputId": "0d4c5d84-4053-4e2a-b6ed-84f14e1c0d81"
      },
      "outputs": [
        {
          "output_type": "stream",
          "name": "stdout",
          "text": [
            "Insira um nome: Zacarias\n",
            "Nome adicionado com sucesso! \n",
            "A lista é: ['Micael', 'Pedro', 'Samuel', 'Luiza', 'Alana', 'Lucas', 'Zacarias']\n"
          ]
        }
      ],
      "source": [
        "alunos = ['Micael', 'Pedro', 'Samuel', 'Luiza', 'Alana', 'Lucas']\n",
        "nome = input('Insira um nome: ')\n",
        "\n",
        "if nome in alunos:\n",
        "  print('Esse nome já está sendo usado!')\n",
        "\n",
        "else:\n",
        "  alunos.append(nome)\n",
        "  print('Nome adicionado com sucesso! ')  \n",
        "\n",
        "print('A lista é:' , alunos)  "
      ]
    }
  ]
}