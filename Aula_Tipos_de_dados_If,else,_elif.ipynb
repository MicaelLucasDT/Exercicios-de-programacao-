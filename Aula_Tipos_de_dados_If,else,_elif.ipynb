{
  "nbformat": 4,
  "nbformat_minor": 0,
  "metadata": {
    "colab": {
      "provenance": [],
      "authorship_tag": "ABX9TyMTL2z5kMr1lGDwqf70yKXN",
      "include_colab_link": true
    },
    "kernelspec": {
      "name": "python3",
      "display_name": "Python 3"
    },
    "language_info": {
      "name": "python"
    }
  },
  "cells": [
    {
      "cell_type": "markdown",
      "metadata": {
        "id": "view-in-github",
        "colab_type": "text"
      },
      "source": [
        "<a href=\"https://colab.research.google.com/github/MicaelLucasDT/Exercicios-de-programacao-/blob/main/Aula_Tipos_de_dados_If%2Celse%2C_elif.ipynb\" target=\"_parent\"><img src=\"https://colab.research.google.com/assets/colab-badge.svg\" alt=\"Open In Colab\"/></a>"
      ]
    },
    {
      "cell_type": "code",
      "execution_count": 2,
      "metadata": {
        "colab": {
          "base_uri": "https://localhost:8080/"
        },
        "id": "cJTEoVibBrU2",
        "outputId": "a7fea43b-ac0f-4e7f-801d-af69a60061ff"
      },
      "outputs": [
        {
          "output_type": "stream",
          "name": "stdout",
          "text": [
            "Meu primeiro notebook\n"
          ]
        }
      ],
      "source": [
        "print('Meu primeiro notebook')\n"
      ]
    },
    {
      "cell_type": "code",
      "source": [
        "nome = 'Micael Lucas'\n",
        "print(nome)\n"
      ],
      "metadata": {
        "colab": {
          "base_uri": "https://localhost:8080/"
        },
        "id": "Km1FUZKICSdL",
        "outputId": "884df6c5-29e9-43ff-a2b6-7e2bb13984a9"
      },
      "execution_count": 3,
      "outputs": [
        {
          "output_type": "stream",
          "name": "stdout",
          "text": [
            "Micael Lucas\n"
          ]
        }
      ]
    },
    {
      "cell_type": "code",
      "source": [
        "num1 = (float(input('Insira um valor: ')))\n",
        "num2 = (float(input('Insira outro valor: ')))\n",
        "\n",
        "resultado = float (num1) + float (num2) \n",
        "\n",
        "if resultado > 5:\n",
        "  print('O resultado da soma é maior que 5 !')\n",
        "if resultado == 5:\n",
        "  print('O resultado da soma é igual que 5 !')\n",
        "else:\n",
        "  print('O valor da soma é menor que 5 !')  "
      ],
      "metadata": {
        "colab": {
          "base_uri": "https://localhost:8080/"
        },
        "id": "3U7M3_EPEoST",
        "outputId": "cccbc1e6-8848-40c6-a76c-3c9ea08c04cc"
      },
      "execution_count": 38,
      "outputs": [
        {
          "output_type": "stream",
          "name": "stdout",
          "text": [
            "Insira um valor: 2.5\n",
            "Insira outro valor: 2.5\n",
            "O resultado da soma é igual que 5 !\n"
          ]
        }
      ]
    },
    {
      "cell_type": "code",
      "source": [
        "a = 100 < 200\n",
        "b = 80 == 6\n",
        "c = 'Micael' == 'Lucas'\n",
        "d = 25 == '25'\n",
        "e = 30 == (6*5)\n",
        "f = 'Framengo' != 'Vasco'"
      ],
      "metadata": {
        "id": "7RntJzYVJje0"
      },
      "execution_count": 29,
      "outputs": []
    },
    {
      "cell_type": "code",
      "source": [
        "nota1 = float(input('Insira a primeira nota: '))\n",
        "nota2 = float(input('Insira a segunda nota: '))\n",
        "nota3 = float(input('Insira a terceira nota: '))\n",
        "\n",
        "soma = float (nota1) + float (nota2) + float (nota3)\n",
        "media = soma/3\n",
        "\n",
        "print('Sua média foi' , media)\n",
        "\n",
        "if media >= 4 and media <7:\n",
        "  print('Recuperação')\n",
        "\n",
        "elif media >= 7:\n",
        "  print('Parabéns, você está aprovado!!!')  \n",
        "\n",
        "else:  \n",
        "  print('Que pena, você reprovou, volte ano que vem...')\n"
      ],
      "metadata": {
        "colab": {
          "base_uri": "https://localhost:8080/"
        },
        "id": "X6QoC9F8OAaj",
        "outputId": "472a4554-9efb-4605-a922-e57a1de10cfb"
      },
      "execution_count": 64,
      "outputs": [
        {
          "output_type": "stream",
          "name": "stdout",
          "text": [
            "Insira a primeira nota: 6\n",
            "Insira a segunda nota: 6\n",
            "Insira a terceira nota: 6\n",
            "Sua média foi 6.0\n",
            "Recuperação\n"
          ]
        }
      ]
    }
  ]
}