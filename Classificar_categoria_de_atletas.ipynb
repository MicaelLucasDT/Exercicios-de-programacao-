{
  "nbformat": 4,
  "nbformat_minor": 0,
  "metadata": {
    "colab": {
      "provenance": [],
      "authorship_tag": "ABX9TyNdXBAlYXwDPucnFe97C3AR",
      "include_colab_link": true
    },
    "kernelspec": {
      "name": "python3",
      "display_name": "Python 3"
    },
    "language_info": {
      "name": "python"
    }
  },
  "cells": [
    {
      "cell_type": "markdown",
      "metadata": {
        "id": "view-in-github",
        "colab_type": "text"
      },
      "source": [
        "<a href=\"https://colab.research.google.com/github/MicaelLucasDT/Exercicios-de-programacao-/blob/main/Classificar_categoria_de_atletas.ipynb\" target=\"_parent\"><img src=\"https://colab.research.google.com/assets/colab-badge.svg\" alt=\"Open In Colab\"/></a>"
      ]
    },
    {
      "cell_type": "code",
      "execution_count": null,
      "metadata": {
        "colab": {
          "base_uri": "https://localhost:8080/"
        },
        "id": "yJfs51s59BFA",
        "outputId": "4b6bd188-5c12-4ef3-874a-f962624d2c10"
      },
      "outputs": [
        {
          "output_type": "stream",
          "name": "stdout",
          "text": [
            "Insira a idade do atleta: 18\n",
            "Adulto\n"
          ]
        }
      ],
      "source": [
        "idade = (int(input('Insira a idade do atleta: ')))\n",
        "\n",
        "if (idade < 14):\n",
        "  print('Infantil')\n",
        "elif (idade < 18):\n",
        "  print ('Juvenil') \n",
        "else:\n",
        "  print('Adulto')"
      ]
    },
    {
      "cell_type": "code",
      "source": [],
      "metadata": {
        "id": "UEygL8P_-ZmU"
      },
      "execution_count": null,
      "outputs": []
    }
  ]
}