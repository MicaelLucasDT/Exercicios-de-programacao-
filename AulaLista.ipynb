{
  "nbformat": 4,
  "nbformat_minor": 0,
  "metadata": {
    "colab": {
      "provenance": [],
      "authorship_tag": "ABX9TyOIFoyBW+DTfNGVTlb9RgRy",
      "include_colab_link": true
    },
    "kernelspec": {
      "name": "python3",
      "display_name": "Python 3"
    },
    "language_info": {
      "name": "python"
    }
  },
  "cells": [
    {
      "cell_type": "markdown",
      "metadata": {
        "id": "view-in-github",
        "colab_type": "text"
      },
      "source": [
        "<a href=\"https://colab.research.google.com/github/MicaelLucasDT/Exercicios-de-programacao-/blob/main/AulaLista.ipynb\" target=\"_parent\"><img src=\"https://colab.research.google.com/assets/colab-badge.svg\" alt=\"Open In Colab\"/></a>"
      ]
    },
    {
      "cell_type": "code",
      "source": [
        "#Lista de exemplo\n",
        "num = [1, 2, 3, 4, 5, 6, 7, 8, 9, 0]\n",
        "num"
      ],
      "metadata": {
        "colab": {
          "base_uri": "https://localhost:8080/"
        },
        "id": "oF0Hcx97_BoE",
        "outputId": "4186d952-21dc-472e-d312-1d1ec9eca0d6"
      },
      "execution_count": null,
      "outputs": [
        {
          "output_type": "execute_result",
          "data": {
            "text/plain": [
              "[1, 2, 3, 4, 5, 6, 7, 8, 9, 0]"
            ]
          },
          "metadata": {},
          "execution_count": 5
        }
      ]
    },
    {
      "cell_type": "code",
      "source": [
        "#Verificar tamanho da lista -- ' len() '\n",
        "len(num)"
      ],
      "metadata": {
        "colab": {
          "base_uri": "https://localhost:8080/"
        },
        "id": "bP58ek6tBaR6",
        "outputId": "df969387-bc8b-47a5-9655-789b20239c76"
      },
      "execution_count": null,
      "outputs": [
        {
          "output_type": "execute_result",
          "data": {
            "text/plain": [
              "10"
            ]
          },
          "metadata": {},
          "execution_count": 6
        }
      ]
    },
    {
      "cell_type": "code",
      "source": [
        "num[0]"
      ],
      "metadata": {
        "colab": {
          "base_uri": "https://localhost:8080/"
        },
        "id": "5MG2ibrFCJ7r",
        "outputId": "18b36ccf-6d88-42a1-cefa-7f9f579bdc58"
      },
      "execution_count": null,
      "outputs": [
        {
          "output_type": "execute_result",
          "data": {
            "text/plain": [
              "1"
            ]
          },
          "metadata": {},
          "execution_count": 8
        }
      ]
    },
    {
      "cell_type": "code",
      "source": [
        "#Outros tipos de listas com mais algumas funções.\n",
        "alunos = ['Lucas', 'Samuel', 'Micael', 'Pedro', 'Alana', 'Maria', 'Vinícius']\n"
      ],
      "metadata": {
        "id": "NglBES1nDL_y"
      },
      "execution_count": null,
      "outputs": []
    },
    {
      "cell_type": "code",
      "source": [
        "#Alterar informação na lista.\n",
        "alunos[0] = 'Ivan'"
      ],
      "metadata": {
        "id": "84OxBVivE4YB"
      },
      "execution_count": null,
      "outputs": []
    },
    {
      "cell_type": "code",
      "source": [
        "alunos.append('Tavares')\n",
        "alunos"
      ],
      "metadata": {
        "colab": {
          "base_uri": "https://localhost:8080/"
        },
        "id": "jOe2dHXfF84Y",
        "outputId": "8f1e95ab-b5e9-4505-f9ef-536d1f0d080e"
      },
      "execution_count": 33,
      "outputs": [
        {
          "output_type": "execute_result",
          "data": {
            "text/plain": [
              "['Lucas',\n",
              " 'Samuel',\n",
              " 'Micael',\n",
              " 'Pedro',\n",
              " 'Alana',\n",
              " 'Maria',\n",
              " 'Vinícius',\n",
              " 'Tavares',\n",
              " 'Tavares',\n",
              " 'Tavares']"
            ]
          },
          "metadata": {},
          "execution_count": 33
        }
      ]
    },
    {
      "cell_type": "code",
      "source": [
        "#Verificar existência de algumn termo na lista.\n",
        "nome = input('Insira um nome: ')\n",
        "if nome in alunos:\n",
        "  print('O nome' , nome , 'já está adicionado!')\n",
        "else: \n",
        "  print('O nome' , nome , 'não está adicionado!') "
      ],
      "metadata": {
        "colab": {
          "base_uri": "https://localhost:8080/"
        },
        "id": "UY5EcY2YQITH",
        "outputId": "e1f4141e-5c69-4444-eda7-f03fc4b19eca"
      },
      "execution_count": 36,
      "outputs": [
        {
          "output_type": "stream",
          "name": "stdout",
          "text": [
            "Insira um nome: Jubileu\n",
            "O nome Jubileu não está adicionado!\n"
          ]
        }
      ]
    },
    {
      "cell_type": "code",
      "source": [
        "#Criar uma lista com números de 1 a 15!\n",
        "\n",
        "numeros = []\n",
        "for num in range(15):\n",
        "  numeros.append(num)\n",
        "numeros  "
      ],
      "metadata": {
        "colab": {
          "base_uri": "https://localhost:8080/"
        },
        "id": "iFsMd-jnT2ZU",
        "outputId": "cf5f3e96-8174-4749-b079-40d95d236ab7"
      },
      "execution_count": 38,
      "outputs": [
        {
          "output_type": "execute_result",
          "data": {
            "text/plain": [
              "[0, 1, 2, 3, 4, 5, 6, 7, 8, 9, 10, 11, 12, 13, 14]"
            ]
          },
          "metadata": {},
          "execution_count": 38
        }
      ]
    },
    {
      "cell_type": "code",
      "source": [
        "#Imprimir o dobro os valores da lista \"numeros\".\n",
        "\n",
        "dobro = []\n",
        "for num in numeros: \n",
        "  dobro.append(num * 2)\n",
        "dobro  "
      ],
      "metadata": {
        "colab": {
          "base_uri": "https://localhost:8080/"
        },
        "id": "flUGNSmeU0B6",
        "outputId": "448aed84-5230-42aa-a1d2-fb6fe7717c1c"
      },
      "execution_count": 41,
      "outputs": [
        {
          "output_type": "execute_result",
          "data": {
            "text/plain": [
              "[0, 2, 4, 6, 8, 10, 12, 14, 16, 18, 20, 22, 24, 26, 28]"
            ]
          },
          "metadata": {},
          "execution_count": 41
        }
      ]
    },
    {
      "cell_type": "code",
      "source": [
        "#Imprimir apenas os valores pares da lista \"numeros\".\n",
        "\n",
        "for num in numeros:\n",
        "  if numeros[num]%2 == 0:\n",
        "      print(numeros[num])"
      ],
      "metadata": {
        "colab": {
          "base_uri": "https://localhost:8080/"
        },
        "id": "vy88wBBcWlHT",
        "outputId": "b3efd2ad-ee56-47a4-fee9-30c7558ad08f"
      },
      "execution_count": 46,
      "outputs": [
        {
          "output_type": "stream",
          "name": "stdout",
          "text": [
            "0\n",
            "2\n",
            "4\n",
            "6\n",
            "8\n",
            "10\n",
            "12\n",
            "14\n"
          ]
        }
      ]
    }
  ]
}